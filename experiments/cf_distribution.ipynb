{
 "cells": [
  {
   "cell_type": "code",
   "execution_count": 5,
   "metadata": {},
   "outputs": [],
   "source": [
    "import torch\n",
    "import torch.nn as nn\n",
    "import torch.nn.functional as F\n",
    "from torchinfo import summary"
   ]
  },
  {
   "cell_type": "code",
   "execution_count": 6,
   "metadata": {},
   "outputs": [],
   "source": [
    "class DEMO(nn.Module):\n",
    "    def __init__(self):\n",
    "        super().__init__()\n",
    "        self.layer1 = nn.Conv2d(64, 128, 3, 1, 1)\n",
    "        self.layer2 = nn.Conv2d(128, 256, 3, 1, 1)\n",
    "        self.layer3 = nn.Conv2d(256, 512, 3, 1, 1)\n",
    "    \n",
    "    def forward(self, x):\n",
    "        x = self.layer1(x)\n",
    "        x = F.max_pool2d(x, 2)\n",
    "        x = self.layer2(x)\n",
    "        x = F.max_pool2d(x, 2)\n",
    "        x = self.layer3(x)\n",
    "        # x = F.max_pool2d(x, 2)\n",
    "        return x"
   ]
  },
  {
   "cell_type": "code",
   "execution_count": 7,
   "metadata": {},
   "outputs": [
    {
     "data": {
      "text/plain": [
       "=====================================================================================================================================================================\n",
       "Layer (type:depth-idx)                   Input Shape               Output Shape              Param #                   Kernel Shape              Mult-Adds\n",
       "=====================================================================================================================================================================\n",
       "DEMO                                     --                        --                        --                        --                        --\n",
       "├─Conv2d: 1-1                            [1, 64, 40, 40]           [1, 128, 40, 40]          73,856                    [64, 128, 3, 3]           118,169,600\n",
       "├─Conv2d: 1-2                            [1, 128, 20, 20]          [1, 256, 20, 20]          295,168                   [128, 256, 3, 3]          118,067,200\n",
       "├─Conv2d: 1-3                            [1, 256, 10, 10]          [1, 512, 10, 10]          1,180,160                 [256, 512, 3, 3]          118,016,000\n",
       "=====================================================================================================================================================================\n",
       "Total params: 1,549,184\n",
       "Trainable params: 1,549,184\n",
       "Non-trainable params: 0\n",
       "Total mult-adds (M): 354.25\n",
       "=====================================================================================================================================================================\n",
       "Input size (MB): 0.41\n",
       "Forward/backward pass size (MB): 2.87\n",
       "Params size (MB): 6.20\n",
       "Estimated Total Size (MB): 9.47\n",
       "====================================================================================================================================================================="
      ]
     },
     "execution_count": 7,
     "metadata": {},
     "output_type": "execute_result"
    }
   ],
   "source": [
    "net = DEMO()\n",
    "net.eval()\n",
    "summary(net, [1, 64, 40, 40], col_names=[ \"input_size\", \"output_size\", \"num_params\", \"kernel_size\", \"mult_adds\"])"
   ]
  }
 ],
 "metadata": {
  "kernelspec": {
   "display_name": "Python 3.8.12 ('mmd')",
   "language": "python",
   "name": "python3"
  },
  "language_info": {
   "codemirror_mode": {
    "name": "ipython",
    "version": 3
   },
   "file_extension": ".py",
   "mimetype": "text/x-python",
   "name": "python",
   "nbconvert_exporter": "python",
   "pygments_lexer": "ipython3",
   "version": "3.8.12 (default, Oct 12 2021, 13:49:34) \n[GCC 7.5.0]"
  },
  "orig_nbformat": 4,
  "vscode": {
   "interpreter": {
    "hash": "ec0dde4b16db8522e88bb212dfab954dec903923bf212972a0705806f65ac1b1"
   }
  }
 },
 "nbformat": 4,
 "nbformat_minor": 2
}
